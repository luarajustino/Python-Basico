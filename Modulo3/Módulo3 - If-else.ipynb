{
 "cells": [
  {
   "attachments": {
    "if_else_statement.jpg": {
     "image/jpeg": "[encoded data removed]"
    }
   },
   "cell_type": "markdown",
   "metadata": {},
   "source": [
    "## Estrutura de decisão - IF - ELSE\n",
    "![if_else_statement.jpg](attachment:if_else_statement.jpg)"
   ]
  },
  {
   "cell_type": "markdown",
   "metadata": {},
   "source": [
    "#### A estrutura if\n",
    "\n",
    "- o bloco de instrução que estiver abaixo da instrução if será executado quando a expressão contida na estrutura if for verdadeira."
   ]
  },
  {
   "cell_type": "code",
   "execution_count": 1,
   "metadata": {},
   "outputs": [
    {
     "name": "stdout",
     "output_type": "stream",
     "text": [
      "Qual sua idade? 16\n"
     ]
    }
   ],
   "source": [
    "#Ex: Criamos um programa onde perguntamos a idade para o usuário e verificamos se ele ja esta apto a \n",
    "#tirar a carteira de motorista\n",
    "\n",
    "#Podemos escrever apenas o if, sem o else.\n",
    "\n",
    "idade = int(input(\"Qual sua idade? \"))\n",
    "\n",
    "#IDENTAÇÃO:\n",
    "\n",
    "if (idade >= 18):\n",
    "    print(\"Idade digitada\", idade)\n",
    "    print(\"Você já pode tirar a carteira de motorista!\")\n",
    "    print(\"Parabéns :)\")"
   ]
  },
  {
   "cell_type": "code",
   "execution_count": 3,
   "metadata": {},
   "outputs": [
    {
     "name": "stdout",
     "output_type": "stream",
     "text": [
      "Qual sua idade?22\n",
      "Você enxerga bem?não\n"
     ]
    }
   ],
   "source": [
    "idade = int(input(\"Qual sua idade?\"))\n",
    "visao = str(input(\"Você enxerga bem?\"))\n",
    "\n",
    "if (idade >= 18 and visao == \"sim\"):\n",
    "    print(\"Você já pode tirar a carteira de motorista!\")\n",
    "    print(\"Parabéns :)\")"
   ]
  },
  {
   "cell_type": "code",
   "execution_count": 5,
   "metadata": {},
   "outputs": [
    {
     "name": "stdout",
     "output_type": "stream",
     "text": [
      "Qual produto você procura?doce de leite\n"
     ]
    }
   ],
   "source": [
    "#Ex: Suponha que criamos um programa para um supermercado. O usuário tem que ser capaz de conseguir pesquisar\n",
    "#se um produto está disponível em estoque.\n",
    "\n",
    "produtos_disponiveis = [\"arroz\", \"feijão\", \"farinha\", \"banana\", \"leite\"]\n",
    "produto = input(\"Qual produto você procura?\")\n",
    "\n",
    "if produto in produtos_disponiveis:\n",
    "    print(\"Oba! Temos esse produto no estoque :) \")\n",
    "    print(\"Corre enquanto dá tempo\")\n",
    "    print(\"Agradecemos a preferência!\")"
   ]
  },
  {
   "cell_type": "code",
   "execution_count": null,
   "metadata": {},
   "outputs": [],
   "source": [
    "#Ex: Suponha que no app do banco o usuário quer fazer um saque. Para isso, precisamos ver se ele tem o dinheiro, \n",
    "#e se tiver, vamos liberar o saque e atualizar o saldo dele."
   ]
  },
  {
   "cell_type": "code",
   "execution_count": 8,
   "metadata": {},
   "outputs": [],
   "source": [
    "saldo = 1000\n",
    "valor_saque = 2000\n",
    "\n",
    "if saldo >= valor_saque:\n",
    "    print(\"O valor de \", valor_saque, \"foi sacado com sucesso\")\n",
    "    saldo = saldo - valor_saque #operação dentro do if\n",
    "    print(\"Seu novo saldo é:\", saldo)"
   ]
  },
  {
   "cell_type": "markdown",
   "metadata": {},
   "source": [
    "#### A estrutura if-else\n",
    "\n",
    "- A estrutura else nunca é executada sozinha. Ela é uma instrução complementar da estrutura if. A palavra else significa SE NÃO e é executada todas as vezes que a expressão definida for falsa."
   ]
  },
  {
   "cell_type": "markdown",
   "metadata": {},
   "source": [
    "- Regra do nosso exemplo do slide: Se nota >= 7 aprovado se não reprovado"
   ]
  },
  {
   "cell_type": "code",
   "execution_count": 10,
   "metadata": {},
   "outputs": [
    {
     "name": "stdout",
     "output_type": "stream",
     "text": [
      "Aprovado!\n"
     ]
    }
   ],
   "source": [
    "nota = 10\n",
    "\n",
    "if nota >=7:\n",
    "    print(\"Aprovado!\")\n",
    "else:\n",
    "    print(\"Reprovado :( \")"
   ]
  },
  {
   "cell_type": "code",
   "execution_count": 12,
   "metadata": {},
   "outputs": [
    {
     "name": "stdout",
     "output_type": "stream",
     "text": [
      "Aprovado\n"
     ]
    }
   ],
   "source": [
    "# Suponha agora que para ser aprovado precisamos ter frequência >= 80% E nota >=7.\n",
    "\n",
    "nota = 9\n",
    "frequencia = 87\n",
    "\n",
    "if (nota >= 7 and frequencia >=80):\n",
    "    print(\"Aprovado\")\n",
    "else:\n",
    "    print(\"Reprovado!:(\")"
   ]
  },
  {
   "cell_type": "code",
   "execution_count": 13,
   "metadata": {},
   "outputs": [
    {
     "name": "stdout",
     "output_type": "stream",
     "text": [
      "Aprovado\n"
     ]
    }
   ],
   "source": [
    "# Suponha agora que para ser aprovado precisamos ter frequência >= 80% ou nota >=7\n",
    "\n",
    "nota = 9\n",
    "frequencia = 77\n",
    "\n",
    "if (nota >= 7 or frequencia >=80):\n",
    "    print(\"Aprovado\")\n",
    "else:\n",
    "    print(\"Reprovado!:(\")"
   ]
  },
  {
   "cell_type": "markdown",
   "metadata": {},
   "source": [
    "#### A estrura if- elif - else\n",
    "\n",
    "- ELIF = ELSE + IF\n",
    "\n",
    "- Com essa estrutura podemos fazer if's aninhados, colocando várias condições"
   ]
  },
  {
   "cell_type": "code",
   "execution_count": 14,
   "metadata": {},
   "outputs": [
    {
     "name": "stdout",
     "output_type": "stream",
     "text": [
      "Você não veio as aulas e tem nota baixa, está reprovado!:(\n"
     ]
    }
   ],
   "source": [
    "# Considere o seguinte: Se o aluno tiver nota >= 7 já esta aprovado. Se não, se ele tiver frequencia >= 80\n",
    "# ele fica em exame. Se ele não tiver nenhum dos dois, ele está reprovado.\n",
    "\n",
    "nota = 5\n",
    "frequencia = 77\n",
    "\n",
    "if (nota >= 7):\n",
    "print(\"Aprovado\")\n",
    "else:\n",
    "    if frequencia >=80:\n",
    "        print(\"Em exame\")\n",
    "    else:\n",
    "        print(\"Você não veio as aulas e tem nota baixa, está reprovado!:(\")"
   ]
  },
  {
   "cell_type": "code",
   "execution_count": 16,
   "metadata": {},
   "outputs": [
    {
     "name": "stdout",
     "output_type": "stream",
     "text": [
      "Em exame\n"
     ]
    }
   ],
   "source": [
    "# Código usando elif\n",
    "nota = 6\n",
    "frequencia = 85\n",
    "\n",
    "if (nota >= 7):\n",
    "    print(\"Aprovado\")\n",
    "elif nota >= 6 and frequencia >=80:\n",
    "    print(\"Em exame\")\n",
    "else:\n",
    "    print(\"Você não veio as aulas e tem nota baixa, está reprovado!:(\")"
   ]
  },
  {
   "cell_type": "code",
   "execution_count": null,
   "metadata": {},
   "outputs": [],
   "source": []
  }
 ],
 "metadata": {
  "kernelspec": {
   "display_name": "Python 3",
   "language": "python",
   "name": "python3"
  },
  "language_info": {
   "codemirror_mode": {
    "name": "ipython",
    "version": 3
   },
   "file_extension": ".py",
   "mimetype": "text/x-python",
   "name": "python",
   "nbconvert_exporter": "python",
   "pygments_lexer": "ipython3",
   "version": "3.8.3"
  }
 },
 "nbformat": 4,
 "nbformat_minor": 4
}
